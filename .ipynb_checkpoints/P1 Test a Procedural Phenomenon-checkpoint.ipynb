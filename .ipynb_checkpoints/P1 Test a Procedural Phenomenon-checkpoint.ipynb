{
 "cells": [
  {
   "cell_type": "markdown",
   "metadata": {},
   "source": [
    "# Statistics: The Science of Decisions Project Instructions\n",
    "\n",
    "## Background Information \n",
    "\n",
    "In a Stroop task, participants are presented with a list of words, with each word displayed in a color of ink. The participant’s task is to say out loud the color of the ink in which the word is printed. The task has two conditions: a congruent words condition, and an incongruent words condition. In the congruent words condition, the words being displayed are color words whose names match the colors in which they are printed: for example RED, BLUE. In the incongruent words condition, the words displayed are color words whose names do not match the colors in which they are printed: for example PURPLE, ORANGE. In each case, we measure the time it takes to name the ink colors in equally-sized lists. Each participant will go through and record a time from each condition."
   ]
  },
  {
   "cell_type": "markdown",
   "metadata": {},
   "source": [
    "### Questions for Investigation\n",
    "#### 1. What is our independent variable?  What is our dependent variable?\n",
    "The independent variable is whether or not one is exposed to the congruent words condition or the incongruent words condition.  The dependent variable is the time it takes to name the ink colors in equally-sized lists."
   ]
  },
  {
   "cell_type": "markdown",
   "metadata": {},
   "source": [
    "#### 2. What is an appropriate set of hypotheses for this task? What kind of statistical test do you expect to perform? Justify your choices.\n",
    "Let $ \\mu_{C} $ = the population mean time it takes to name the ink colors under the congruent words condition.   \n",
    "Let $ μ_I $ = the population mean time it takes to name the ink colors under the incongruent words condition.\n",
    "\n",
    "$ H_{0}:  \\mu_C = \\mu_I $    \n",
    "$ H_A: \\mu_C \\ne \\mu_I $   \n",
    "\n",
    "The null hypothesis is that there is no difference between the two conditions.  The alternative hypothesis is that there is a difference between the two conditions.  The test is to see if there is a difference.  I selected a two-tailed test because there is no assumption of whether or not it will take less time or more time.\n",
    "\n",
    "The statistical test that will be performed is a paired sample t-test.  This test will be used to compare the differences between the performance of participants on the congruent and incongruent conditions.  In order to do this, the differences will be calculated and treated as a sample.\n",
    "\n",
    "A t-test is applicable because the sample size of 24 is smaller than 30.  The actual population standard deviations for the mean times for each of the populations are unknown which rules out the use of any type of z-test.  Based on the analysis of the histograms and summary statistics in question 3, it is a fair assumption that both populations are approximately normally distributed based on the shapes of the histograms and the fact that the sample means and medians are very close.\n",
    "\n"
   ]
  },
  {
   "cell_type": "markdown",
   "metadata": {},
   "source": [
    "As a general note, be sure to keep a record of any resources that you use or refer to in the creation of your project. You will need to report your sources as part of the project submission.\n",
    "Now it’s your chance to try out the Stroop task for yourself. Go to this [link](https://www.google.com/url?q=https://faculty.washington.edu/chudler/java/ready.html&sa=D&ust=1455910929447000&usg=AFQjCNETT8fHY1_z3LQybK7dHsqRZZtlNA), which has a Java-based applet for performing the Stroop task. Record the times that you received on the task (you do not need to submit your times to the site.) Now, download [this dataset](https://www.google.com/url?q=https://drive.google.com/file/d/0B9Yf01UaIbUgQXpYb2NhZ29yX1U/view?usp%3Dsharing&sa=D&ust=1455910929448000&usg=AFQjCNGABagMd0cZJewduz7uu3xHyVkW4A) which contains results from a number of participants in the task. Each row of the dataset contains the performance for one participant, with the first number their results on the congruent task and the second number their performance on the incongruent task.\n"
   ]
  },
  {
   "cell_type": "markdown",
   "metadata": {},
   "source": [
    "#### 3. Report some descriptive statistics regarding this dataset. Include at least one measure of central tendency and at least one measure of variability."
   ]
  },
  {
   "cell_type": "code",
   "execution_count": 70,
   "metadata": {
    "collapsed": false
   },
   "outputs": [
    {
     "name": "stdout",
     "output_type": "stream",
     "text": [
      "    Congruent  Incongruent\n",
      "0      12.079       19.278\n",
      "1      16.791       18.741\n",
      "2       9.564       21.214\n",
      "3       8.630       15.687\n",
      "4      14.669       22.803\n",
      "5      12.238       20.878\n",
      "6      14.692       24.572\n",
      "7       8.987       17.394\n",
      "8       9.401       20.762\n",
      "9      14.480       26.282\n",
      "10     22.328       24.524\n",
      "11     15.298       18.644\n",
      "12     15.073       17.510\n",
      "13     16.929       20.330\n",
      "14     18.200       35.255\n",
      "15     12.130       22.158\n",
      "16     18.495       25.139\n",
      "17     10.639       20.429\n",
      "18     11.344       17.425\n",
      "19     12.369       34.288\n",
      "20     12.944       23.894\n",
      "21     14.233       17.960\n",
      "22     19.710       22.058\n",
      "23     16.004       21.157\n",
      "\n",
      "Congruent Summary Statistics\n",
      "Mean: 14.051125\n",
      "Median: 14.3565\n",
      "Variance: 12.6690290707\n",
      "Standard Deviation: 3.55935795765\n",
      "\n",
      "Incongruent Summary Statistics\n",
      "Mean: 22.0159166667\n",
      "Median: 21.0175\n",
      "Variance: 23.0117570362\n",
      "Standard Deviation: 4.79705712247\n"
     ]
    }
   ],
   "source": [
    "import pandas as pd\n",
    "\n",
    "dataFrame = pd.read_csv('stroopdata.csv')\n",
    "\n",
    "print dataFrame\n",
    "print\n",
    "\n",
    "def descriptive_statistics(column):\n",
    "    print column + \" Summary Statistics\"\n",
    "    print \"Mean:\",dataFrame[column].mean()\n",
    "    print \"Median:\",dataFrame[column].median()\n",
    "    print \"Variance:\",dataFrame[column].var()\n",
    "    print \"Standard Deviation:\",dataFrame[column].std()\n",
    "\n",
    "descriptive_statistics('Congruent')\n",
    "print\n",
    "descriptive_statistics('Incongruent')"
   ]
  },
  {
   "cell_type": "markdown",
   "metadata": {},
   "source": [
    "#### 4. Provide one or two visualizations that show the distribution of the sample data. Write one or two sentences noting what you observe about the plot or plots."
   ]
  },
  {
   "cell_type": "code",
   "execution_count": 61,
   "metadata": {
    "collapsed": false
   },
   "outputs": [
    {
     "data": {
      "image/png": "[encoded data removed]",
      "text/plain": [
       "<matplotlib.figure.Figure at 0x1322c2e8>"
      ]
     },
     "metadata": {},
     "output_type": "display_data"
    },
    {
     "data": {
      "image/png": "[encoded data removed]",
      "text/plain": [
       "<matplotlib.figure.Figure at 0xea8f5f8>"
      ]
     },
     "metadata": {},
     "output_type": "display_data"
    }
   ],
   "source": [
    "import matplotlib.pyplot as plt\n",
    "%matplotlib inline\n",
    "plt.style.use('ggplot')\n",
    "#dataFrame['Congruent'].plot(kind = 'hist', bins=6)\n",
    "plt.hist(dataFrame['Congruent'], bins = [6,9,12,15,18,21,24])\n",
    "plt.title(\"Histogram of Congruent\")\n",
    "plt.xlabel(\"Time in seconds\")\n",
    "plt.ylabel(\"Frequency\")\n",
    "plt.axis([6, 24, 0, 10])\n",
    "plt.show()\n",
    "\n",
    "plt.hist(dataFrame['Incongruent'], bins = [15,18,21,24,27,30,33,36])\n",
    "plt.title(\"Histogram of Incongruent\")\n",
    "plt.xlabel(\"Time in seconds\")\n",
    "plt.ylabel(\"Frequency\")\n",
    "plt.axis([15, 36, 0, 8])\n",
    "plt.show()\n"
   ]
  },
  {
   "cell_type": "markdown",
   "metadata": {},
   "source": [
    "**Congruent**: The shape of the congruent histogram is approximately normal or mound-shaped.  The center appears to be somewhere between 12 and 15.  The range of the histogram goes from 6 to 24.\n",
    "\n",
    "**Incongruent**: The shape of the incongruent histogram is skewed somewhat to the right due to the data points within the 33-36 range.  These observations may or may not be outliers (further analysis would be needed to determine this).  The center appears to be somewhere in the range of 18 to 24.  The range of the histogram goes from 15 to 36."
   ]
  },
  {
   "cell_type": "markdown",
   "metadata": {},
   "source": [
    "#### 5. Now, perform the statistical test and report your results. What is your confidence level and your critical statistic value? Do you reject the null hypothesis or fail to reject it? Come to a conclusion in terms of the experiment task. Did the results match up with your expectations?"
   ]
  },
  {
   "cell_type": "code",
   "execution_count": 69,
   "metadata": {
    "collapsed": false
   },
   "outputs": [
    {
     "name": "stdout",
     "output_type": "stream",
     "text": [
      "Lower t-critical value: -2.06865761042\n",
      "Upper t-critical value: 2.06865761042\n",
      "\n",
      "t-statistic: -8.02070694411\n",
      "two-tailed p-value 4.10300058571e-08\n"
     ]
    }
   ],
   "source": [
    "import scipy.stats\n",
    "\n",
    "print \"Lower t-critical value:\",scipy.stats.t.ppf(0.025, 23)\n",
    "print \"Upper t-critical value:\",scipy.stats.t.ppf(0.975, 23)\n",
    "print\n",
    "print \"t-statistic:\",scipy.stats.ttest_rel(dataFrame['Congruent'],dataFrame['Incongruent']).statistic\n",
    "print \"two-tailed p-value\",scipy.stats.ttest_rel(dataFrame['Congruent'],dataFrame['Incongruent']).pvalue"
   ]
  },
  {
   "cell_type": "markdown",
   "metadata": {},
   "source": [
    "Using the scipy.stats.t.ppf function to find the t-critical value for a 95% confidence level yields t-critcal values of -2.0687 and 2.0687.  The scipy.stats.ttest_rel function shows the results of running the statistical test.  The t-statistics of -8.0207 is well below the t-critical value of -2.0687 which means that it falls within the rejection region.  With a p-value so small of 0.00000004103, we reject the null hypothesis that the mean of the congruent condition times and the mean of the incongruent condition times are equal.  There is strong evidence to support that there is a difference between the two means.  I expected there to be a significant difference since it took me so much longer to identify the colors during the incongruent condition."
   ]
  },
  {
   "cell_type": "markdown",
   "metadata": {},
   "source": [
    "#### 6. Optional: What do you think is responsible for the effects observed? Can you think of an alternative or similar task that would result in a similar effect? Some research about the problem will be helpful for thinking about these two questions!\n",
    "I believe that the incongruent task takes so much longer because the brain needs to process and reconcile two conflicting pieces of information.  In the congruent task, the color matches the word, so there is no conflict between the two signals that the brain is processing.  In the incongruent task, there is a conflict between the two signals, so one of the verbal perception needs to be suppressed in order to identify the correct color.\n",
    "\n",
    "An interesting variation of this task could present words representing feelings (e.g. happiness, sadness, fear, etc.) along with a visual picture of someone exhibiting this characteristic.  People would be asked to interpret what they believe the facial expression to be.  The incongruent condition of this task could pair a happy facial expression with the word sad.  People would still need to identify what they think the facial expression is.\n"
   ]
  },
  {
   "cell_type": "code",
   "execution_count": null,
   "metadata": {
    "collapsed": true
   },
   "outputs": [],
   "source": []
  }
 ],
 "metadata": {
  "kernelspec": {
   "display_name": "Python 2",
   "language": "python",
   "name": "python2"
  },
  "language_info": {
   "codemirror_mode": {
    "name": "ipython",
    "version": 2
   },
   "file_extension": ".py",
   "mimetype": "text/x-python",
   "name": "python",
   "nbconvert_exporter": "python",
   "pygments_lexer": "ipython2",
   "version": "2.7.11"
  }
 },
 "nbformat": 4,
 "nbformat_minor": 0
}
